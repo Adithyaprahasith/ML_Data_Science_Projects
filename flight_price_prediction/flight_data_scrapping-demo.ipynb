{
 "cells": [
  {
   "cell_type": "markdown",
   "id": "6c63719e",
   "metadata": {},
   "source": [
    "# load the libraries "
   ]
  },
  {
   "cell_type": "code",
   "execution_count": 17,
   "id": "99a3329a",
   "metadata": {},
   "outputs": [],
   "source": [
    "from time import sleep \n",
    "import pandas as pd\n",
    "from selenium import webdriver # selenium webdriver to control the website\n",
    "from bs4 import BeautifulSoup # for scraping the web html\n",
    "import os"
   ]
  },
  {
   "cell_type": "markdown",
   "id": "50eec14f",
   "metadata": {},
   "source": [
    "# loading the chrome web driver"
   ]
  },
  {
   "cell_type": "code",
   "execution_count": 18,
   "id": "3a5d5cef",
   "metadata": {},
   "outputs": [],
   "source": [
    "driver=webdriver.Chrome() # selenium webdriver to control the website"
   ]
  },
  {
   "cell_type": "markdown",
   "id": "074c1b37",
   "metadata": {},
   "source": [
    "set the date"
   ]
  },
  {
   "cell_type": "code",
   "execution_count": 20,
   "id": "7ae24331",
   "metadata": {},
   "outputs": [
    {
     "name": "stdout",
     "output_type": "stream",
     "text": [
      "2023-11-17\n"
     ]
    }
   ],
   "source": [
    "from datetime import datetime\n",
    "temp_date='2023-11-17'\n",
    "t_date=datetime.strptime(temp_date, '%Y-%m-%d')\n",
    "formatted_date = t_date.strftime('%Y-%m-%d')\n",
    "print(formatted_date)"
   ]
  },
  {
   "cell_type": "markdown",
   "id": "cefdfa1b",
   "metadata": {},
   "source": [
    "website url to scrap"
   ]
  },
  {
   "cell_type": "code",
   "execution_count": 21,
   "id": "0f725807",
   "metadata": {},
   "outputs": [
    {
     "name": "stdout",
     "output_type": "stream",
     "text": [
      "https://www.kayak.com/flights/BOS-SFO/2023-11-17?sort=bestflight_a\n"
     ]
    }
   ],
   "source": [
    "url=f'https://www.kayak.com/flights/BOS-SFO/{formatted_date}?sort=bestflight_a'\n",
    "print(url)"
   ]
  },
  {
   "cell_type": "code",
   "execution_count": 22,
   "id": "27c697fe",
   "metadata": {},
   "outputs": [],
   "source": [
    "driver.get(url)\n",
    "sleep(10)"
   ]
  },
  {
   "cell_type": "code",
   "execution_count": 41,
   "id": "d66605e3",
   "metadata": {},
   "outputs": [],
   "source": [
    "from selenium.webdriver.common.by import By\n",
    "flight_rows=driver.find_elements(By.XPATH,'//div[@class=\"nrc6-wrapper\"]') #XPath to navigate the structure of an HTML or XML document, making it useful for locating and interacting with specific elements on a web page \n"
   ]
  },
  {
   "cell_type": "code",
   "execution_count": 24,
   "id": "8cb5929c",
   "metadata": {},
   "outputs": [
    {
     "name": "stdout",
     "output_type": "stream",
     "text": [
      "[<selenium.webdriver.remote.webelement.WebElement (session=\"1c15a73fc5394ed7e5d7391bf3f21297\", element=\"8633926416F022910A13EF895574D6D3_element_55\")>, <selenium.webdriver.remote.webelement.WebElement (session=\"1c15a73fc5394ed7e5d7391bf3f21297\", element=\"8633926416F022910A13EF895574D6D3_element_56\")>, <selenium.webdriver.remote.webelement.WebElement (session=\"1c15a73fc5394ed7e5d7391bf3f21297\", element=\"8633926416F022910A13EF895574D6D3_element_57\")>, <selenium.webdriver.remote.webelement.WebElement (session=\"1c15a73fc5394ed7e5d7391bf3f21297\", element=\"8633926416F022910A13EF895574D6D3_element_58\")>, <selenium.webdriver.remote.webelement.WebElement (session=\"1c15a73fc5394ed7e5d7391bf3f21297\", element=\"8633926416F022910A13EF895574D6D3_element_59\")>, <selenium.webdriver.remote.webelement.WebElement (session=\"1c15a73fc5394ed7e5d7391bf3f21297\", element=\"8633926416F022910A13EF895574D6D3_element_60\")>, <selenium.webdriver.remote.webelement.WebElement (session=\"1c15a73fc5394ed7e5d7391bf3f21297\", element=\"8633926416F022910A13EF895574D6D3_element_61\")>, <selenium.webdriver.remote.webelement.WebElement (session=\"1c15a73fc5394ed7e5d7391bf3f21297\", element=\"8633926416F022910A13EF895574D6D3_element_62\")>, <selenium.webdriver.remote.webelement.WebElement (session=\"1c15a73fc5394ed7e5d7391bf3f21297\", element=\"8633926416F022910A13EF895574D6D3_element_63\")>, <selenium.webdriver.remote.webelement.WebElement (session=\"1c15a73fc5394ed7e5d7391bf3f21297\", element=\"8633926416F022910A13EF895574D6D3_element_64\")>, <selenium.webdriver.remote.webelement.WebElement (session=\"1c15a73fc5394ed7e5d7391bf3f21297\", element=\"8633926416F022910A13EF895574D6D3_element_65\")>, <selenium.webdriver.remote.webelement.WebElement (session=\"1c15a73fc5394ed7e5d7391bf3f21297\", element=\"8633926416F022910A13EF895574D6D3_element_66\")>, <selenium.webdriver.remote.webelement.WebElement (session=\"1c15a73fc5394ed7e5d7391bf3f21297\", element=\"8633926416F022910A13EF895574D6D3_element_67\")>, <selenium.webdriver.remote.webelement.WebElement (session=\"1c15a73fc5394ed7e5d7391bf3f21297\", element=\"8633926416F022910A13EF895574D6D3_element_68\")>, <selenium.webdriver.remote.webelement.WebElement (session=\"1c15a73fc5394ed7e5d7391bf3f21297\", element=\"8633926416F022910A13EF895574D6D3_element_69\")>, <selenium.webdriver.remote.webelement.WebElement (session=\"1c15a73fc5394ed7e5d7391bf3f21297\", element=\"8633926416F022910A13EF895574D6D3_element_70\")>]\n"
     ]
    }
   ],
   "source": [
    "print(flight_rows)"
   ]
  },
  {
   "cell_type": "code",
   "execution_count": 25,
   "id": "b5b6178e",
   "metadata": {},
   "outputs": [],
   "source": [
    "list_prices=[]\n",
    "list_company_names=[]\n",
    "list_departure_time=[]\n",
    "list_arrival_time=[]\n",
    "list_stops=[]\n",
    "list_duration=[]\n",
    "list_class=[]\n",
    "list_date=[]"
   ]
  },
  {
   "cell_type": "code",
   "execution_count": null,
   "id": "9350e945",
   "metadata": {},
   "outputs": [],
   "source": [
    "#<div> element is a block-level container in HTML. It is typically used to group together\n",
    "#and structure content on a web page. "
   ]
  },
  {
   "cell_type": "code",
   "execution_count": 38,
   "id": "100a0319",
   "metadata": {},
   "outputs": [
    {
     "name": "stdout",
     "output_type": "stream",
     "text": [
      "['Alaska Airlines', 'United Airlines', 'American Airlines', 'Delta', 'United Airlines', 'United Airlines', 'JetBlue', 'United Airlines', 'JetBlue', 'JetBlue', 'United Airlines', 'American Airlines', 'United Airlines', 'United Airlines', 'American Airlines', 'Delta', 'Alaska Airlines', 'United Airlines', 'American Airlines', 'Delta', 'United Airlines', 'United Airlines', 'JetBlue', 'United Airlines', 'JetBlue', 'JetBlue', 'United Airlines', 'American Airlines', 'United Airlines', 'United Airlines', 'American Airlines', 'Delta', 'Alaska Airlines', 'United Airlines', 'American Airlines', 'Delta', 'United Airlines', 'United Airlines', 'JetBlue', 'United Airlines', 'JetBlue', 'JetBlue', 'United Airlines', 'American Airlines', 'United Airlines', 'United Airlines', 'American Airlines', 'Delta', 'Alaska Airlines', 'United Airlines', 'American Airlines', 'Delta', 'United Airlines', 'United Airlines', 'JetBlue', 'United Airlines', 'JetBlue', 'JetBlue', 'United Airlines', 'American Airlines', 'United Airlines', 'United Airlines', 'American Airlines', 'Delta', 'Alaska Airlines', 'United Airlines', 'American Airlines', 'Delta', 'United Airlines', 'United Airlines', 'JetBlue', 'United Airlines', 'JetBlue', 'JetBlue', 'United Airlines', 'American Airlines', 'United Airlines', 'United Airlines', 'American Airlines', 'Delta', 'Alaska Airlines', 'United Airlines', 'American Airlines', 'Delta', 'United Airlines', 'United Airlines', 'JetBlue', 'United Airlines', 'JetBlue', 'JetBlue', 'United Airlines', 'American Airlines', 'United Airlines', 'United Airlines', 'American Airlines', 'Delta', 'Alaska Airlines', 'United Airlines', 'American Airlines', 'Delta', 'United Airlines', 'United Airlines', 'JetBlue', 'United Airlines', 'JetBlue', 'JetBlue', 'United Airlines', 'American Airlines', 'United Airlines', 'United Airlines', 'American Airlines', 'Delta']\n",
      "['$379', '$324', '$270', '$344', '$379', '$379', '$394', '$509', '$529', '$614', '$334', '$332', '$334', '$334', '$334', '$354', '$379', '$324', '$270', '$344', '$379', '$379', '$394', '$509', '$529', '$614', '$334', '$332', '$334', '$334', '$334', '$354', '$379', '$324', '$270', '$344', '$379', '$379', '$394', '$509', '$529', '$614', '$334', '$332', '$334', '$334', '$334', '$354', '$379', '$324', '$270', '$344', '$379', '$379', '$394', '$509', '$529', '$614', '$334', '$332', '$334', '$334', '$334', '$354', '$379', '$324', '$270', '$344', '$379', '$379', '$394', '$509', '$529', '$614', '$334', '$332', '$334', '$334', '$334', '$354', '$379', '$324', '$270', '$344', '$379', '$379', '$394', '$509', '$529', '$614', '$334', '$332', '$334', '$334', '$334', '$354', '$379', '$324', '$270', '$344', '$379', '$379', '$394', '$509', '$529', '$614', '$334', '$332', '$334', '$334', '$334', '$354']\n",
      "['11h 43mBOS-SFO', '6h 48mBOS-SFO', '10h 56mBOS-SFO', '7h 00mBOS-SFO', '6h 48mBOS-SFO', '6h 45mBOS-SFO', '6h 46mBOS-SFO', '6h 47mBOS-SFO', '6h 47mBOS-SFO', '6h 43mBOS-SFO', '8h 39mBOS-SFO', '8h 46mBOS-SFO', '8h 40mBOS-SFO', '8h 35mBOS-SFO', '8h 46mBOS-SFO', '8h 17mBOS-SFO', '11h 43mBOS-SFO', '6h 48mBOS-SFO', '10h 56mBOS-SFO', '7h 00mBOS-SFO', '6h 48mBOS-SFO', '6h 45mBOS-SFO', '6h 46mBOS-SFO', '6h 47mBOS-SFO', '6h 47mBOS-SFO', '6h 43mBOS-SFO', '8h 39mBOS-SFO', '8h 46mBOS-SFO', '8h 40mBOS-SFO', '8h 35mBOS-SFO', '8h 46mBOS-SFO', '8h 17mBOS-SFO', '11h 43mBOS-SFO', '6h 48mBOS-SFO', '10h 56mBOS-SFO', '7h 00mBOS-SFO', '6h 48mBOS-SFO', '6h 45mBOS-SFO', '6h 46mBOS-SFO', '6h 47mBOS-SFO', '6h 47mBOS-SFO', '6h 43mBOS-SFO', '8h 39mBOS-SFO', '8h 46mBOS-SFO', '8h 40mBOS-SFO', '8h 35mBOS-SFO', '8h 46mBOS-SFO', '8h 17mBOS-SFO', '11h 43mBOS-SFO', '6h 48mBOS-SFO', '10h 56mBOS-SFO', '7h 00mBOS-SFO', '6h 48mBOS-SFO', '6h 45mBOS-SFO', '6h 46mBOS-SFO', '6h 47mBOS-SFO', '6h 47mBOS-SFO', '6h 43mBOS-SFO', '8h 39mBOS-SFO', '8h 46mBOS-SFO', '8h 40mBOS-SFO', '8h 35mBOS-SFO', '8h 46mBOS-SFO', '8h 17mBOS-SFO', '11h 43mBOS-SFO', '6h 48mBOS-SFO', '10h 56mBOS-SFO', '7h 00mBOS-SFO', '6h 48mBOS-SFO', '6h 45mBOS-SFO', '6h 46mBOS-SFO', '6h 47mBOS-SFO', '6h 47mBOS-SFO', '6h 43mBOS-SFO', '8h 39mBOS-SFO', '8h 46mBOS-SFO', '8h 40mBOS-SFO', '8h 35mBOS-SFO', '8h 46mBOS-SFO', '8h 17mBOS-SFO', '11h 43mBOS-SFO', '6h 48mBOS-SFO', '10h 56mBOS-SFO', '7h 00mBOS-SFO', '6h 48mBOS-SFO', '6h 45mBOS-SFO', '6h 46mBOS-SFO', '6h 47mBOS-SFO', '6h 47mBOS-SFO', '6h 43mBOS-SFO', '8h 39mBOS-SFO', '8h 46mBOS-SFO', '8h 40mBOS-SFO', '8h 35mBOS-SFO', '8h 46mBOS-SFO', '8h 17mBOS-SFO', '11h 43mBOS-SFO', '6h 48mBOS-SFO', '10h 56mBOS-SFO', '7h 00mBOS-SFO', '6h 48mBOS-SFO', '6h 45mBOS-SFO', '6h 46mBOS-SFO', '6h 47mBOS-SFO', '6h 47mBOS-SFO', '6h 43mBOS-SFO', '8h 39mBOS-SFO', '8h 46mBOS-SFO', '8h 40mBOS-SFO', '8h 35mBOS-SFO', '8h 46mBOS-SFO', '8h 17mBOS-SFO']\n",
      "['1 stop', 'nonstop', '1 stop', 'nonstop', 'nonstop', 'nonstop', 'nonstop', 'nonstop', 'nonstop', 'nonstop', '1 stop', '1 stop', '1 stop', '1 stop', '1 stop', '1 stop', '1 stop', 'nonstop', '1 stop', 'nonstop', 'nonstop', 'nonstop', 'nonstop', 'nonstop', 'nonstop', 'nonstop', '1 stop', '1 stop', '1 stop', '1 stop', '1 stop', '1 stop', '1 stop', 'nonstop', '1 stop', 'nonstop', 'nonstop', 'nonstop', 'nonstop', 'nonstop', 'nonstop', 'nonstop', '1 stop', '1 stop', '1 stop', '1 stop', '1 stop', '1 stop', '1 stop', 'nonstop', '1 stop', 'nonstop', 'nonstop', 'nonstop', 'nonstop', 'nonstop', 'nonstop', 'nonstop', '1 stop', '1 stop', '1 stop', '1 stop', '1 stop', '1 stop', '1 stop', 'nonstop', '1 stop', 'nonstop', 'nonstop', 'nonstop', 'nonstop', 'nonstop', 'nonstop', 'nonstop', '1 stop', '1 stop', '1 stop', '1 stop', '1 stop', '1 stop', '1 stop', 'nonstop', '1 stop', 'nonstop', 'nonstop', 'nonstop', 'nonstop', 'nonstop', 'nonstop', 'nonstop', '1 stop', '1 stop', '1 stop', '1 stop', '1 stop', '1 stop', '1 stop', 'nonstop', '1 stop', 'nonstop', 'nonstop', 'nonstop', 'nonstop', 'nonstop', 'nonstop', 'nonstop', '1 stop', '1 stop', '1 stop', '1 stop', '1 stop', '1 stop']\n",
      "['8:30 am – 5:13 pm', '9:50 am – 1:38 pm', '1:07 pm – 9:03 pm', '8:05 am – 12:05 pm', '8:00 am – 11:48 am', '6:05 am – 9:50 am', '7:24 am – 11:10 am', '1:30 pm – 5:17 pm', '10:09 am – 1:56 pm', '6:42 pm – 10:25 pm', '6:00 am – 11:39 am', '6:45 am – 12:31 pm', '5:30 am – 11:10 am', '7:30 am – 1:05 pm', '5:50 am – 11:36 am', '5:30 am – 10:47 am', '8:30 am – 5:13 pm', '9:50 am – 1:38 pm', '1:07 pm – 9:03 pm', '8:05 am – 12:05 pm', '8:00 am – 11:48 am', '6:05 am – 9:50 am', '7:24 am – 11:10 am', '1:30 pm – 5:17 pm', '10:09 am – 1:56 pm', '6:42 pm – 10:25 pm', '6:00 am – 11:39 am', '6:45 am – 12:31 pm', '5:30 am – 11:10 am', '7:30 am – 1:05 pm', '5:50 am – 11:36 am', '5:30 am – 10:47 am', '8:30 am – 5:13 pm', '9:50 am – 1:38 pm', '1:07 pm – 9:03 pm', '8:05 am – 12:05 pm', '8:00 am – 11:48 am', '6:05 am – 9:50 am', '7:24 am – 11:10 am', '1:30 pm – 5:17 pm', '10:09 am – 1:56 pm', '6:42 pm – 10:25 pm', '6:00 am – 11:39 am', '6:45 am – 12:31 pm', '5:30 am – 11:10 am', '7:30 am – 1:05 pm', '5:50 am – 11:36 am', '5:30 am – 10:47 am', '8:30 am – 5:13 pm', '9:50 am – 1:38 pm', '1:07 pm – 9:03 pm', '8:05 am – 12:05 pm', '8:00 am – 11:48 am', '6:05 am – 9:50 am', '7:24 am – 11:10 am', '1:30 pm – 5:17 pm', '10:09 am – 1:56 pm', '6:42 pm – 10:25 pm', '6:00 am – 11:39 am', '6:45 am – 12:31 pm', '5:30 am – 11:10 am', '7:30 am – 1:05 pm', '5:50 am – 11:36 am', '5:30 am – 10:47 am', '8:30 am – 5:13 pm', '9:50 am – 1:38 pm', '1:07 pm – 9:03 pm', '8:05 am – 12:05 pm', '8:00 am – 11:48 am', '6:05 am – 9:50 am', '7:24 am – 11:10 am', '1:30 pm – 5:17 pm', '10:09 am – 1:56 pm', '6:42 pm – 10:25 pm', '6:00 am – 11:39 am', '6:45 am – 12:31 pm', '5:30 am – 11:10 am', '7:30 am – 1:05 pm', '5:50 am – 11:36 am', '5:30 am – 10:47 am', '8:30 am – 5:13 pm', '9:50 am – 1:38 pm', '1:07 pm – 9:03 pm', '8:05 am – 12:05 pm', '8:00 am – 11:48 am', '6:05 am – 9:50 am', '7:24 am – 11:10 am', '1:30 pm – 5:17 pm', '10:09 am – 1:56 pm', '6:42 pm – 10:25 pm', '6:00 am – 11:39 am', '6:45 am – 12:31 pm', '5:30 am – 11:10 am', '7:30 am – 1:05 pm', '5:50 am – 11:36 am', '5:30 am – 10:47 am', '8:30 am – 5:13 pm', '9:50 am – 1:38 pm', '1:07 pm – 9:03 pm', '8:05 am – 12:05 pm', '8:00 am – 11:48 am', '6:05 am – 9:50 am', '7:24 am – 11:10 am', '1:30 pm – 5:17 pm', '10:09 am – 1:56 pm', '6:42 pm – 10:25 pm', '6:00 am – 11:39 am', '6:45 am – 12:31 pm', '5:30 am – 11:10 am', '7:30 am – 1:05 pm', '5:50 am – 11:36 am', '5:30 am – 10:47 am']\n",
      "['Main', 'Basic Economy', 'Basic Economy', 'Basic Economy', 'Economy', 'Economy', 'Blue Basic', 'Economy', 'Blue Basic', 'Blue Basic', 'Basic Economy', 'Basic Economy', 'Basic Economy', 'Basic Economy', 'Basic Economy', 'Basic Economy', 'Main', 'Basic Economy', 'Basic Economy', 'Basic Economy', 'Economy', 'Economy', 'Blue Basic', 'Economy', 'Blue Basic', 'Blue Basic', 'Basic Economy', 'Basic Economy', 'Basic Economy', 'Basic Economy', 'Basic Economy', 'Basic Economy', 'Main', 'Basic Economy', 'Basic Economy', 'Basic Economy', 'Economy', 'Economy', 'Blue Basic', 'Economy', 'Blue Basic', 'Blue Basic', 'Basic Economy', 'Basic Economy', 'Basic Economy', 'Basic Economy', 'Basic Economy', 'Basic Economy', 'Main', 'Basic Economy', 'Basic Economy', 'Basic Economy', 'Economy', 'Economy', 'Blue Basic', 'Economy', 'Blue Basic', 'Blue Basic', 'Basic Economy', 'Basic Economy', 'Basic Economy', 'Basic Economy', 'Basic Economy', 'Basic Economy', 'Main', 'Basic Economy', 'Basic Economy', 'Basic Economy', 'Economy', 'Economy', 'Blue Basic', 'Economy', 'Blue Basic', 'Blue Basic', 'Basic Economy', 'Basic Economy', 'Basic Economy', 'Basic Economy', 'Basic Economy', 'Basic Economy', 'Main', 'Basic Economy', 'Basic Economy', 'Basic Economy', 'Economy', 'Economy', 'Blue Basic', 'Economy', 'Blue Basic', 'Blue Basic', 'Basic Economy', 'Basic Economy', 'Basic Economy', 'Basic Economy', 'Basic Economy', 'Basic Economy', 'Main', 'Basic Economy', 'Basic Economy', 'Basic Economy', 'Economy', 'Economy', 'Blue Basic', 'Economy', 'Blue Basic', 'Blue Basic', 'Basic Economy', 'Basic Economy', 'Basic Economy', 'Basic Economy', 'Basic Economy', 'Basic Economy']\n"
     ]
    }
   ],
   "source": [
    "# scraping \n",
    "for element in flight_rows:\n",
    "    elementHTML=element.get_attribute('outerHTML')\n",
    "    elementSoup=BeautifulSoup(elementHTML,'html.parser')\n",
    "    \n",
    "    #get flight prices\n",
    "    temp_prices=elementSoup.find(\"div\",{\"class\":\"nrc6-price-section\"})\n",
    "    price=temp_prices.find(\"div\",{\"class\":\"oVHK\"})\n",
    "    list_prices.append(price.text)\n",
    "    \n",
    "    # get flight names\n",
    "    company_names=elementSoup.find(\"div\",{\"class\":\"c_cgF c_cgF-mod-variant-default\"})\n",
    "    if company_names is not None:\n",
    "        company_name_text = company_names.get_text()\n",
    "        list_company_names.append(company_name_text)\n",
    "    else:\n",
    "        # Handle the case where the element is not found\n",
    "        list_company_names.append(None) \n",
    "    \n",
    "    # get flight duration\n",
    "    duration=elementSoup.find(\"div\",{\"class\":\"xdW8\"})\n",
    "    if duration is not None:\n",
    "        duration_text = duration.get_text()\n",
    "        list_duration.append(duration_text)\n",
    "    else:\n",
    "        # Handle the case where the element is not found\n",
    "        list_duration.append(None)\n",
    "    \n",
    "    # get flight stops\n",
    "    stops=elementSoup.find(\"span\",{\"class\":\"JWEO-stops-text\"})\n",
    "    if stops is not None:\n",
    "        stops_text = stops.get_text()\n",
    "        list_stops.append(stops_text)\n",
    "    else:\n",
    "        # Handle the case where the element is not found\n",
    "        list_stops.append(None)\n",
    "    \n",
    "    \n",
    "     # get flight departure time\n",
    "    dep=elementSoup.find(\"div\",{\"class\":\"vmXl vmXl-mod-variant-large\"})\n",
    "    if dep is not None:\n",
    "        dep_text = dep.get_text()\n",
    "        list_departure_time.append(dep_text)\n",
    "    else:\n",
    "        # Handle the case where the element is not found\n",
    "        list_departure_time.append(None)\n",
    "        \n",
    "    \n",
    "     # get flight ticket class \n",
    "    tc=elementSoup.find(\"div\",{\"class\":\"aC3z-name\"})\n",
    "    if tc is not None:\n",
    "        tc_text = tc.get_text()\n",
    "        list_class.append(tc_text)\n",
    "    else:\n",
    "        # Handle the case where the element is not found\n",
    "        list_class.append(None)\n",
    "\n",
    "\n",
    "print(list_company_names)\n",
    "print(list_prices)\n",
    "print(list_duration)\n",
    "print(list_stops)\n",
    "print(list_departure_time)\n",
    "print(list_class)\n",
    "\n"
   ]
  },
  {
   "cell_type": "code",
   "execution_count": 39,
   "id": "e77ed8ed",
   "metadata": {},
   "outputs": [],
   "source": [
    "import numpy as np\n",
    "import pandas as pd\n",
    "scrapped_data = {'Airline': list_company_names, \n",
    "                 'Date': formatted_date,\n",
    "                 'Flight_Duration': list_duration, \n",
    "                 'Stops': list_stops,\n",
    "                 'Time_total': list_departure_time,\n",
    "                 'class_type': list_class,\n",
    "                 'Flight_price': list_prices\n",
    "                }\n",
    "df = pd.DataFrame(scrapped_data)"
   ]
  },
  {
   "cell_type": "code",
   "execution_count": 40,
   "id": "a3691bd7",
   "metadata": {},
   "outputs": [
    {
     "data": {
      "text/html": [
       "<div>\n",
       "<style scoped>\n",
       "    .dataframe tbody tr th:only-of-type {\n",
       "        vertical-align: middle;\n",
       "    }\n",
       "\n",
       "    .dataframe tbody tr th {\n",
       "        vertical-align: top;\n",
       "    }\n",
       "\n",
       "    .dataframe thead th {\n",
       "        text-align: right;\n",
       "    }\n",
       "</style>\n",
       "<table border=\"1\" class=\"dataframe\">\n",
       "  <thead>\n",
       "    <tr style=\"text-align: right;\">\n",
       "      <th></th>\n",
       "      <th>Airline</th>\n",
       "      <th>Date</th>\n",
       "      <th>Flight_Duration</th>\n",
       "      <th>Stops</th>\n",
       "      <th>Time_total</th>\n",
       "      <th>class_type</th>\n",
       "      <th>Flight_price</th>\n",
       "    </tr>\n",
       "  </thead>\n",
       "  <tbody>\n",
       "    <tr>\n",
       "      <th>0</th>\n",
       "      <td>Alaska Airlines</td>\n",
       "      <td>2023-11-17</td>\n",
       "      <td>11h 43mBOS-SFO</td>\n",
       "      <td>1 stop</td>\n",
       "      <td>8:30 am – 5:13 pm</td>\n",
       "      <td>Main</td>\n",
       "      <td>$379</td>\n",
       "    </tr>\n",
       "    <tr>\n",
       "      <th>1</th>\n",
       "      <td>United Airlines</td>\n",
       "      <td>2023-11-17</td>\n",
       "      <td>6h 48mBOS-SFO</td>\n",
       "      <td>nonstop</td>\n",
       "      <td>9:50 am – 1:38 pm</td>\n",
       "      <td>Basic Economy</td>\n",
       "      <td>$324</td>\n",
       "    </tr>\n",
       "    <tr>\n",
       "      <th>2</th>\n",
       "      <td>American Airlines</td>\n",
       "      <td>2023-11-17</td>\n",
       "      <td>10h 56mBOS-SFO</td>\n",
       "      <td>1 stop</td>\n",
       "      <td>1:07 pm – 9:03 pm</td>\n",
       "      <td>Basic Economy</td>\n",
       "      <td>$270</td>\n",
       "    </tr>\n",
       "    <tr>\n",
       "      <th>3</th>\n",
       "      <td>Delta</td>\n",
       "      <td>2023-11-17</td>\n",
       "      <td>7h 00mBOS-SFO</td>\n",
       "      <td>nonstop</td>\n",
       "      <td>8:05 am – 12:05 pm</td>\n",
       "      <td>Basic Economy</td>\n",
       "      <td>$344</td>\n",
       "    </tr>\n",
       "    <tr>\n",
       "      <th>4</th>\n",
       "      <td>United Airlines</td>\n",
       "      <td>2023-11-17</td>\n",
       "      <td>6h 48mBOS-SFO</td>\n",
       "      <td>nonstop</td>\n",
       "      <td>8:00 am – 11:48 am</td>\n",
       "      <td>Economy</td>\n",
       "      <td>$379</td>\n",
       "    </tr>\n",
       "    <tr>\n",
       "      <th>...</th>\n",
       "      <td>...</td>\n",
       "      <td>...</td>\n",
       "      <td>...</td>\n",
       "      <td>...</td>\n",
       "      <td>...</td>\n",
       "      <td>...</td>\n",
       "      <td>...</td>\n",
       "    </tr>\n",
       "    <tr>\n",
       "      <th>107</th>\n",
       "      <td>American Airlines</td>\n",
       "      <td>2023-11-17</td>\n",
       "      <td>8h 46mBOS-SFO</td>\n",
       "      <td>1 stop</td>\n",
       "      <td>6:45 am – 12:31 pm</td>\n",
       "      <td>Basic Economy</td>\n",
       "      <td>$332</td>\n",
       "    </tr>\n",
       "    <tr>\n",
       "      <th>108</th>\n",
       "      <td>United Airlines</td>\n",
       "      <td>2023-11-17</td>\n",
       "      <td>8h 40mBOS-SFO</td>\n",
       "      <td>1 stop</td>\n",
       "      <td>5:30 am – 11:10 am</td>\n",
       "      <td>Basic Economy</td>\n",
       "      <td>$334</td>\n",
       "    </tr>\n",
       "    <tr>\n",
       "      <th>109</th>\n",
       "      <td>United Airlines</td>\n",
       "      <td>2023-11-17</td>\n",
       "      <td>8h 35mBOS-SFO</td>\n",
       "      <td>1 stop</td>\n",
       "      <td>7:30 am – 1:05 pm</td>\n",
       "      <td>Basic Economy</td>\n",
       "      <td>$334</td>\n",
       "    </tr>\n",
       "    <tr>\n",
       "      <th>110</th>\n",
       "      <td>American Airlines</td>\n",
       "      <td>2023-11-17</td>\n",
       "      <td>8h 46mBOS-SFO</td>\n",
       "      <td>1 stop</td>\n",
       "      <td>5:50 am – 11:36 am</td>\n",
       "      <td>Basic Economy</td>\n",
       "      <td>$334</td>\n",
       "    </tr>\n",
       "    <tr>\n",
       "      <th>111</th>\n",
       "      <td>Delta</td>\n",
       "      <td>2023-11-17</td>\n",
       "      <td>8h 17mBOS-SFO</td>\n",
       "      <td>1 stop</td>\n",
       "      <td>5:30 am – 10:47 am</td>\n",
       "      <td>Basic Economy</td>\n",
       "      <td>$354</td>\n",
       "    </tr>\n",
       "  </tbody>\n",
       "</table>\n",
       "<p>112 rows × 7 columns</p>\n",
       "</div>"
      ],
      "text/plain": [
       "               Airline        Date Flight_Duration    Stops  \\\n",
       "0      Alaska Airlines  2023-11-17  11h 43mBOS-SFO   1 stop   \n",
       "1      United Airlines  2023-11-17   6h 48mBOS-SFO  nonstop   \n",
       "2    American Airlines  2023-11-17  10h 56mBOS-SFO   1 stop   \n",
       "3                Delta  2023-11-17   7h 00mBOS-SFO  nonstop   \n",
       "4      United Airlines  2023-11-17   6h 48mBOS-SFO  nonstop   \n",
       "..                 ...         ...             ...      ...   \n",
       "107  American Airlines  2023-11-17   8h 46mBOS-SFO   1 stop   \n",
       "108    United Airlines  2023-11-17   8h 40mBOS-SFO   1 stop   \n",
       "109    United Airlines  2023-11-17   8h 35mBOS-SFO   1 stop   \n",
       "110  American Airlines  2023-11-17   8h 46mBOS-SFO   1 stop   \n",
       "111              Delta  2023-11-17   8h 17mBOS-SFO   1 stop   \n",
       "\n",
       "             Time_total     class_type Flight_price  \n",
       "0     8:30 am – 5:13 pm           Main         $379  \n",
       "1     9:50 am – 1:38 pm  Basic Economy         $324  \n",
       "2     1:07 pm – 9:03 pm  Basic Economy         $270  \n",
       "3    8:05 am – 12:05 pm  Basic Economy         $344  \n",
       "4    8:00 am – 11:48 am        Economy         $379  \n",
       "..                  ...            ...          ...  \n",
       "107  6:45 am – 12:31 pm  Basic Economy         $332  \n",
       "108  5:30 am – 11:10 am  Basic Economy         $334  \n",
       "109   7:30 am – 1:05 pm  Basic Economy         $334  \n",
       "110  5:50 am – 11:36 am  Basic Economy         $334  \n",
       "111  5:30 am – 10:47 am  Basic Economy         $354  \n",
       "\n",
       "[112 rows x 7 columns]"
      ]
     },
     "execution_count": 40,
     "metadata": {},
     "output_type": "execute_result"
    }
   ],
   "source": [
    "df"
   ]
  },
  {
   "cell_type": "code",
   "execution_count": 206,
   "id": "4cf38e5f",
   "metadata": {},
   "outputs": [],
   "source": [
    "df.to_csv('flight_demo.csv', index=False)"
   ]
  },
  {
   "cell_type": "code",
   "execution_count": null,
   "id": "c52b2844",
   "metadata": {},
   "outputs": [],
   "source": []
  }
 ],
 "metadata": {
  "kernelspec": {
   "display_name": "Python 3 (ipykernel)",
   "language": "python",
   "name": "python3"
  },
  "language_info": {
   "codemirror_mode": {
    "name": "ipython",
    "version": 3
   },
   "file_extension": ".py",
   "mimetype": "text/x-python",
   "name": "python",
   "nbconvert_exporter": "python",
   "pygments_lexer": "ipython3",
   "version": "3.11.4"
  }
 },
 "nbformat": 4,
 "nbformat_minor": 5
}
